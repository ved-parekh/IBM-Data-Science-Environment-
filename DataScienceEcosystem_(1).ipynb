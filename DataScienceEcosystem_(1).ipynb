{
  "cells": [
    {
      "cell_type": "markdown",
      "metadata": {
        "id": "Jt2H40gdeXiI"
      },
      "source": [
        "<center>\n",
        "    <img src=\"https://cf-courses-data.s3.us.cloud-object-storage.appdomain.cloud/IBMDeveloperSkillsNetwork-DS0105EN-SkillsNetwork/labs/Module2/images/SN_web_lightmode.png\" width=\"300\" alt=\"cognitiveclass.ai logo\">\n",
        "</center>\n"
      ]
    },
    {
      "cell_type": "markdown",
      "metadata": {
        "id": "E1HIkao6eXiM"
      },
      "source": [
        "#### Add your code below following the instructions given in the course\n"
      ]
    },
    {
      "cell_type": "markdown",
      "metadata": {
        "tags": [],
        "id": "QCHJT0tqeXiN"
      },
      "source": [
        "<h1>Data Science Tools and Ecosystem </h1>"
      ]
    },
    {
      "cell_type": "markdown",
      "metadata": {
        "jp-MarkdownHeadingCollapsed": true,
        "tags": [],
        "id": "4ffxxWWaeXiN"
      },
      "source": [
        "In this notebook, Data Science Tools and Ecosystem are summarized.\n",
        "\n",
        "**Objectives**\n",
        "\n",
        "\n",
        "*   Popular Languages for Data Science\n",
        "*   Common Libraries used in Data Science\n",
        "*   Data Science Tools\n",
        "*   Arithmetic in Python\n",
        "\n"
      ]
    },
    {
      "cell_type": "markdown",
      "metadata": {
        "jp-MarkdownHeadingCollapsed": true,
        "tags": [],
        "id": "dgKFCm4JeXiO"
      },
      "source": [
        "Some of the popular languages that Data Scientists use are:\n",
        "<ol>\n",
        "    <li> Python\n",
        "    <li> R\n",
        "    <li> SQL\n",
        "</ol>"
      ]
    },
    {
      "cell_type": "markdown",
      "metadata": {
        "id": "0SUIAqUkeXiO"
      },
      "source": [
        "Some of the commonly used libraries used by Data Scientists include:\n",
        "\n",
        "1. Matplotlib\n",
        "2. Numpy\n",
        "3. Pandas"
      ]
    },
    {
      "cell_type": "markdown",
      "source": [
        "### Below are a few examples of evaluating arithmetic expressions in Python. ###"
      ],
      "metadata": {
        "id": "9zNHpBXLeXiO"
      }
    },
    {
      "cell_type": "code",
      "source": [
        "print((3*4)+5)\n"
      ],
      "metadata": {
        "colab": {
          "base_uri": "https://localhost:8080/"
        },
        "id": "P7GhsriBfiFx",
        "outputId": "d1da9088-76ad-4907-cc03-6f8e76910a8a"
      },
      "execution_count": 2,
      "outputs": [
        {
          "output_type": "stream",
          "name": "stdout",
          "text": [
            "17\n"
          ]
        }
      ]
    },
    {
      "cell_type": "code",
      "source": [
        "mins=200.0\n",
        "hours=mins/60.0\n",
        "print(hours)"
      ],
      "metadata": {
        "colab": {
          "base_uri": "https://localhost:8080/"
        },
        "id": "s1DO-HOXfm9x",
        "outputId": "2a3d2a8b-b7ae-43c5-82dc-a1f9b13e57c6"
      },
      "execution_count": 3,
      "outputs": [
        {
          "output_type": "stream",
          "name": "stdout",
          "text": [
            "3.3333333333333335\n"
          ]
        }
      ]
    },
    {
      "cell_type": "markdown",
      "source": [
        "##  Author ##\n",
        "Ved Parekh"
      ],
      "metadata": {
        "id": "rfbMWVgof1Dj"
      }
    }
  ],
  "metadata": {
    "kernelspec": {
      "display_name": "Python",
      "language": "python",
      "name": "conda-env-python-py"
    },
    "language_info": {
      "codemirror_mode": {
        "name": "ipython",
        "version": 3
      },
      "file_extension": ".py",
      "mimetype": "text/x-python",
      "name": "python",
      "nbconvert_exporter": "python",
      "pygments_lexer": "ipython3",
      "version": "3.7.12"
    },
    "colab": {
      "provenance": []
    }
  },
  "nbformat": 4,
  "nbformat_minor": 0
}